{
 "cells": [
  {
   "cell_type": "markdown",
   "metadata": {},
   "source": [
    "# Code for a Simple Binary Evolutionary Algorithm"
   ]
  },
  {
   "cell_type": "code",
   "execution_count": 86,
   "metadata": {
    "ExecuteTime": {
     "end_time": "2019-03-07T15:14:29.328576Z",
     "start_time": "2019-03-07T15:14:29.313446Z"
    }
   },
   "outputs": [],
   "source": [
    "import matplotlib.pyplot as plt\n",
    "%matplotlib inline\n",
    "from random import random,randint, sample, shuffle, uniform\n",
    "from operator import itemgetter"
   ]
  },
  {
   "cell_type": "markdown",
   "metadata": {},
   "source": [
    "# Generate Random Individuals"
   ]
  },
  {
   "cell_type": "code",
   "execution_count": 68,
   "metadata": {
    "ExecuteTime": {
     "end_time": "2019-03-07T14:49:23.517554Z",
     "start_time": "2019-03-07T14:49:23.513587Z"
    }
   },
   "outputs": [],
   "source": [
    "# Initialize population\n",
    "def generate_population(size_pop, size_cromo):\n",
    "    #List of tuples: (Chromosome, Fitness)\n",
    "    return [(generate_individual(size_cromo),0) for i in range(size_pop)]\n",
    "\n",
    "#Generate a new individual\n",
    "def generate_individual(size_chromo):\n",
    "    # random initialization\n",
    "    indiv = [randint(0,1) for i in range(size_chromo)]\n",
    "    return indiv"
   ]
  },
  {
   "cell_type": "markdown",
   "metadata": {},
   "source": [
    "# Parent Selection"
   ]
  },
  {
   "cell_type": "code",
   "execution_count": 69,
   "metadata": {
    "ExecuteTime": {
     "end_time": "2019-03-07T14:49:39.985562Z",
     "start_time": "2019-03-07T14:49:39.980885Z"
    }
   },
   "outputs": [],
   "source": [
    "# Tournament Selection\n",
    "def tournament_selection(t_size):\n",
    "    #To implement. It should return a list of individuals.\n",
    "    pass\n"
   ]
  },
  {
   "cell_type": "markdown",
   "metadata": {},
   "source": [
    "# Survivor Selection"
   ]
  },
  {
   "cell_type": "code",
   "execution_count": 70,
   "metadata": {
    "ExecuteTime": {
     "end_time": "2019-03-07T14:50:12.063392Z",
     "start_time": "2019-03-07T14:50:12.059214Z"
    }
   },
   "outputs": [],
   "source": [
    "# Survivals: elitism\n",
    "def survivors_selection_elite(elite):\n",
    "    #To implement. It should return a new population."
   ]
  },
  {
   "cell_type": "markdown",
   "metadata": {},
   "source": [
    "# Variation Operators"
   ]
  },
  {
   "cell_type": "markdown",
   "metadata": {},
   "source": [
    "## Recombination "
   ]
  },
  {
   "cell_type": "code",
   "execution_count": 71,
   "metadata": {
    "ExecuteTime": {
     "end_time": "2019-03-07T14:50:37.987731Z",
     "start_time": "2019-03-07T14:50:37.980675Z"
    }
   },
   "outputs": [],
   "source": [
    "# Variation Operators: Crossover\n",
    "def single_point_cross(indiv_1, indiv_2,prob_cross):\n",
    "    # To implement: It should return a tuple with two individuals.\n",
    "    pass\n",
    "    "
   ]
  },
  {
   "cell_type": "markdown",
   "metadata": {},
   "source": [
    "## Mutation"
   ]
  },
  {
   "cell_type": "code",
   "execution_count": 72,
   "metadata": {
    "ExecuteTime": {
     "end_time": "2019-03-07T14:50:55.019722Z",
     "start_time": "2019-03-07T14:50:55.015952Z"
    }
   },
   "outputs": [],
   "source": [
    "# Variation operators: Binary mutation        \n",
    "def bin_mutation(indiv,prob_muta):\n",
    "    # Mutation by gene. It should return the chromosome mutated"
   ]
  },
  {
   "cell_type": "markdown",
   "metadata": {},
   "source": [
    "# Evaluation of Solution"
   ]
  },
  {
   "cell_type": "code",
   "execution_count": 81,
   "metadata": {
    "ExecuteTime": {
     "end_time": "2019-03-07T15:13:01.486796Z",
     "start_time": "2019-03-07T15:13:01.478946Z"
    }
   },
   "outputs": [],
   "source": [
    "# ---------  Evaluation -----------------\n",
    "def phenotype(indiv):\n",
    "    \"\"\"from a binary string to a list of [id,weight,value].\"\"\"\n",
    "    pheno = [[id, problem['weights'][id], problem['values'][id]] for id in range(len(indiv)) if indiv[id] == 1]\n",
    "    return pheno\n",
    "\n",
    "def evaluate_zero(feno):\n",
    "    \"\"\" feno = [...,[ıd,weight,value],...]\"\"\"\n",
    "    total_weight = sum([weight for id_,weight,value in feno])\n",
    "    if total_weight > problem['capacity']:\n",
    "        return 0\n",
    "    return sum([value for id,weight,value in feno])\n",
    "\n",
    "def evaluate_kp(problem):\n",
    "    \"\"\"\n",
    "    problem is a dictionary describing the instance of the KP.\n",
    "    keys = values (list of invidual's values), weigths (list of individual's weights),capacity (a float with the total capacity)\n",
    "    \"\"\"\n",
    "    def fitness(indiv):\n",
    "        quali = evaluate_zero(phenotype(indiv))\n",
    "        return quali\n",
    "    return fitness"
   ]
  },
  {
   "cell_type": "markdown",
   "metadata": {},
   "source": [
    "# Statistics"
   ]
  },
  {
   "cell_type": "code",
   "execution_count": 79,
   "metadata": {
    "ExecuteTime": {
     "end_time": "2019-03-07T15:11:19.914471Z",
     "start_time": "2019-03-07T15:11:19.911085Z"
    }
   },
   "outputs": [],
   "source": [
    "#Returns de best individual in the population\n",
    "def best_pop(populacao):\n",
    "    populacao.sort(key=itemgetter(1),reverse=True)\n",
    "    return populacao[0]\n",
    "\n",
    "def average_pop(populacao):\n",
    "    return sum([fit for cromo,fit in populacao])/len(populacao)"
   ]
  },
  {
   "cell_type": "markdown",
   "metadata": {},
   "source": [
    "# Main Cycle"
   ]
  },
  {
   "cell_type": "code",
   "execution_count": 76,
   "metadata": {
    "ExecuteTime": {
     "end_time": "2019-03-07T14:52:19.933315Z",
     "start_time": "2019-03-07T14:52:19.926273Z"
    }
   },
   "outputs": [],
   "source": [
    "# Simple [Binary] Evolutionary Algorithm        \n",
    "def simple_evolutionary_algorithm(num_generations, pop_size, size_chrom, prob_mut, recom_prob, parent_sel,recombination,mutation,survivors_sel, fitness_func):\n",
    "    # inicialize population: indiv = (chromosome,fit)\n",
    "    population = generate_population(pop_size, size_chrom)\n",
    "    # evaluate population\n",
    "    population = [(indiv[0], fitness_func(indiv[0])) for indiv in population]              \n",
    "    # For Statistics\n",
    "    stat = [best_pop(population)[1]]\n",
    "    stat_aver = [average_pop(population)]\n",
    "                  \n",
    "    for i in range(num_generations):\n",
    "        # parents selection\n",
    "        mate_pool = parent_sel(population)\n",
    "        # Variation\n",
    "        # ------ Crossover\n",
    "        offspring_pop = []\n",
    "        for i in  range(0,pop_size - 1,2):\n",
    "            indiv_1= mate_pool[i]\n",
    "            indiv_2 = mate_pool[i+1]\n",
    "            offspring = recombination(indiv_1,indiv_2, recom_prob)\n",
    "            offspring_pop.extend(offspring) \n",
    "        # ------ Mutation\n",
    "        new_population = []\n",
    "        for chromo,fit in offspring_pop:\n",
    "            new_ind = mutation(chromo, prob_mut)\n",
    "            new_population.append((new_ind,fitness_func(new_ind)))\n",
    "        # New population\n",
    "        population = survivors_sel(population, new_population)\n",
    "        # Evaluate the new population\n",
    "        population = [(indiv[0], fitness_func(indiv[0])) for indiv in population]\n",
    "        # Statistics\n",
    "        stat.append(best_pop(population)[1])\n",
    "        stat_aver.append(average_pop(population))        \n",
    "    return best_pop(population), stat, stat_aver"
   ]
  },
  {
   "cell_type": "markdown",
   "metadata": {},
   "source": [
    "# Generate DataSet"
   ]
  },
  {
   "cell_type": "code",
   "execution_count": 98,
   "metadata": {
    "ExecuteTime": {
     "end_time": "2019-03-07T15:17:07.596300Z",
     "start_time": "2019-03-07T15:17:07.591771Z"
    }
   },
   "outputs": [],
   "source": [
    "def generate_strong_cor(size_items,max_value,amplitude):\n",
    "    weights = [uniform(1,max_value) for i in range(size_items)]\n",
    "    values = [weights[i] + amplitude for i in range(size_items)]\n",
    "    capacity = int(0.5 * sum(weights))\n",
    "    return {'weights':weights, 'values':values, 'capacity': capacity}"
   ]
  },
  {
   "cell_type": "code",
   "execution_count": 103,
   "metadata": {
    "ExecuteTime": {
     "end_time": "2019-03-07T15:46:37.975120Z",
     "start_time": "2019-03-07T15:46:37.967331Z"
    }
   },
   "outputs": [],
   "source": [
    "def generate_uncor(size_items,max_value):\n",
    "    weights = [uniform(1,max_value) for i in range(size_items)]\n",
    "    values = [uniform(1,max_value) for i in range(size_items)]\n",
    "    capacity = int(0.5 * sum(weights))\n",
    "    return {'weights':weights, 'values':values, 'capacity': capacity}"
   ]
  },
  {
   "cell_type": "markdown",
   "metadata": {},
   "source": [
    "# One Execution"
   ]
  },
  {
   "cell_type": "code",
   "execution_count": 101,
   "metadata": {
    "ExecuteTime": {
     "end_time": "2019-03-07T15:17:38.891921Z",
     "start_time": "2019-03-07T15:17:32.180570Z"
    }
   },
   "outputs": [],
   "source": [
    "problem = generate_uncor(100,10)\n",
    "#print(problem)\n",
    "fit = evaluate_kp(problem)\n",
    "best_indi, mbf, pop_average = simple_evolutionary_algorithm(1000, 100, 100, 0.01, 0.9, tournament_selection(3), single_point_cross, bin_mutation, survivors_selection_elite(0.1), fit)"
   ]
  },
  {
   "cell_type": "markdown",
   "metadata": {},
   "source": [
    "# Statistics "
   ]
  },
  {
   "cell_type": "code",
   "execution_count": 102,
   "metadata": {
    "ExecuteTime": {
     "end_time": "2019-03-07T15:17:41.073739Z",
     "start_time": "2019-03-07T15:17:40.958830Z"
    }
   },
   "outputs": [
    {
     "data": {
      "image/png": "[encoded data removed]",
      "text/plain": [
       "<Figure size 432x288 with 1 Axes>"
      ]
     },
     "metadata": {
      "needs_background": "light"
     },
     "output_type": "display_data"
    }
   ],
   "source": [
    "generations = list(range(len(mbf)))\n",
    "plt.plot(generations, mbf, label='Best')\n",
    "plt.plot(generations,pop_average,label='Average')\n",
    "plt.title('Performance over generations')\n",
    "plt.xlabel('Generation')\n",
    "plt.ylabel('Fitness')\n",
    "plt.legend(loc='best')\n",
    "plt.show()"
   ]
  },
  {
   "cell_type": "code",
   "execution_count": null,
   "metadata": {},
   "outputs": [],
   "source": []
  }
 ],
 "metadata": {
  "kernelspec": {
   "display_name": "Python 3",
   "language": "python",
   "name": "python3"
  },
  "language_info": {
   "codemirror_mode": {
    "name": "ipython",
    "version": 3
   },
   "file_extension": ".py",
   "mimetype": "text/x-python",
   "name": "python",
   "nbconvert_exporter": "python",
   "pygments_lexer": "ipython3",
   "version": "3.6.6"
  }
 },
 "nbformat": 4,
 "nbformat_minor": 2
}
